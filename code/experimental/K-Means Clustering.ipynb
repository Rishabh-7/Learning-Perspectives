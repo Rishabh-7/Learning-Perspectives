{
 "cells": [
  {
   "cell_type": "code",
   "execution_count": 2,
   "metadata": {},
   "outputs": [],
   "source": [
    "from mpl_toolkits import mplot3d\n",
    "import matplotlib.pyplot as plt\n",
    "%matplotlib inline\n",
    "import numpy as np\n",
    "from sklearn.cluster import KMeans\n",
    "import pandas as pd\n",
    "from kmodes.kmodes import KModes"
   ]
  },
  {
   "cell_type": "code",
   "execution_count": 3,
   "metadata": {
    "scrolled": false
   },
   "outputs": [
    {
     "name": "stdout",
     "output_type": "stream",
     "text": [
      "[[0 0 1 ... 0 1 0]\n",
      " [0 0 1 ... 0 1 0]\n",
      " [0 0 0 ... 0 1 0]\n",
      " ...\n",
      " [0 0 0 ... 0 0 0]\n",
      " [0 0 1 ... 0 1 0]\n",
      " [0 0 0 ... 0 0 0]]\n"
     ]
    }
   ],
   "source": [
    "#we will plot number of keywords found on x axis\n",
    "#we will plot number of matches from the global values on y axis\n",
    "#openfile = open('/home/manan/Desktop/Research/Learning-Perspectives/results/bstr.txt')\n",
    "#readfile = openfile.readlines()\n",
    "\n",
    "## initialize with values from the teachers notes\n",
    "conc_val = np.genfromtxt(fname = \"/home/manan/Desktop/Research/Learning-Perspectives/code/bstr.txt\",dtype='str')\n",
    "conc_val = conc_val.astype(np.int)\n",
    "print(conc_val)"
   ]
  },
  {
   "cell_type": "code",
   "execution_count": 31,
   "metadata": {},
   "outputs": [
    {
     "name": "stdout",
     "output_type": "stream",
     "text": [
      "<class 'pandas.core.frame.DataFrame'>\n",
      "RangeIndex: 89 entries, 0 to 88\n",
      "Data columns (total 2 columns):\n",
      " #   Column  Non-Null Count  Dtype  \n",
      "---  ------  --------------  -----  \n",
      " 0   0       89 non-null     float64\n",
      " 1   1       89 non-null     float64\n",
      "dtypes: float64(2)\n",
      "memory usage: 1.5 KB\n"
     ]
    },
    {
     "data": {
      "text/html": [
       "<div>\n",
       "<style scoped>\n",
       "    .dataframe tbody tr th:only-of-type {\n",
       "        vertical-align: middle;\n",
       "    }\n",
       "\n",
       "    .dataframe tbody tr th {\n",
       "        vertical-align: top;\n",
       "    }\n",
       "\n",
       "    .dataframe thead th {\n",
       "        text-align: right;\n",
       "    }\n",
       "</style>\n",
       "<table border=\"1\" class=\"dataframe\">\n",
       "  <thead>\n",
       "    <tr style=\"text-align: right;\">\n",
       "      <th></th>\n",
       "      <th>score</th>\n",
       "      <th>dummy</th>\n",
       "    </tr>\n",
       "  </thead>\n",
       "  <tbody>\n",
       "    <tr>\n",
       "      <th>0</th>\n",
       "      <td>1.720000e+69</td>\n",
       "      <td>0.0</td>\n",
       "    </tr>\n",
       "    <tr>\n",
       "      <th>1</th>\n",
       "      <td>1.726279e+69</td>\n",
       "      <td>0.0</td>\n",
       "    </tr>\n",
       "    <tr>\n",
       "      <th>2</th>\n",
       "      <td>8.424991e+65</td>\n",
       "      <td>0.0</td>\n",
       "    </tr>\n",
       "    <tr>\n",
       "      <th>3</th>\n",
       "      <td>1.726279e+69</td>\n",
       "      <td>0.0</td>\n",
       "    </tr>\n",
       "    <tr>\n",
       "      <th>4</th>\n",
       "      <td>1.851466e+69</td>\n",
       "      <td>0.0</td>\n",
       "    </tr>\n",
       "  </tbody>\n",
       "</table>\n",
       "</div>"
      ],
      "text/plain": [
       "          score  dummy\n",
       "0  1.720000e+69    0.0\n",
       "1  1.726279e+69    0.0\n",
       "2  8.424991e+65    0.0\n",
       "3  1.726279e+69    0.0\n",
       "4  1.851466e+69    0.0"
      ]
     },
     "execution_count": 31,
     "metadata": {},
     "output_type": "execute_result"
    }
   ],
   "source": [
    "'''\n",
    "df = pd.DataFrame(data=X)\n",
    "df.info()\n",
    "df.columns=[\"score\",\"dummy\"]\n",
    "df.head(5)\n",
    "'''"
   ]
  },
  {
   "cell_type": "code",
   "execution_count": 43,
   "metadata": {},
   "outputs": [
    {
     "data": {
      "text/plain": [
       "<matplotlib.axes._subplots.AxesSubplot at 0x7f129d214b10>"
      ]
     },
     "execution_count": 43,
     "metadata": {},
     "output_type": "execute_result"
    },
    {
     "data": {
      "image/png": "[encoded data removed]",
      "text/plain": [
       "<Figure size 864x576 with 1 Axes>"
      ]
     },
     "metadata": {
      "needs_background": "light"
     },
     "output_type": "display_data"
    }
   ],
   "source": [
    "#df.plot.scatter(y='score',x='dummy', figsize=(12,8),style=\"s\",s=300)"
   ]
  },
  {
   "cell_type": "code",
   "execution_count": 25,
   "metadata": {},
   "outputs": [
    {
     "data": {
      "text/plain": [
       "KMeans(algorithm='auto', copy_x=True, init='k-means++', max_iter=300,\n",
       "       n_clusters=3, n_init=10, n_jobs=None, precompute_distances='auto',\n",
       "       random_state=None, tol=0.0001, verbose=0)"
      ]
     },
     "execution_count": 25,
     "metadata": {},
     "output_type": "execute_result"
    }
   ],
   "source": [
    "''''\n",
    "## apply K means\n",
    "kmeans = KMeans(n_clusters=3)\n",
    "kmeans.fit(conc_val)\n",
    "'''"
   ]
  },
  {
   "cell_type": "code",
   "execution_count": 52,
   "metadata": {},
   "outputs": [
    {
     "name": "stdout",
     "output_type": "stream",
     "text": [
      "[[5.14843125e+67 0.00000000e+00]\n",
      " [1.80865594e+69 0.00000000e+00]\n",
      " [3.11882269e+69 0.00000000e+00]]\n"
     ]
    }
   ],
   "source": [
    "'''\n",
    "## cluster centres\n",
    "print(kmeans.cluster_centers_)\n",
    "'''"
   ]
  },
  {
   "cell_type": "code",
   "execution_count": 53,
   "metadata": {},
   "outputs": [
    {
     "name": "stdout",
     "output_type": "stream",
     "text": [
      "[1 1 0 1 1 1 1 0 0 1 0 1 0 0 1 1 0 0 0 0 0 0 0 0 0 1 1 0 0 1 0 0 1 0 2 0 1\n",
      " 0 0 1 0 0 1 0 0 0 1 2 0 0 1 0 0 0 0 1 0 0 0 0 1 0 0 0 1 1 1 0 1 1 1 0 0 1\n",
      " 0 0 0 1 0 1 0 0 0 1 0 1 1 1 1]\n"
     ]
    }
   ],
   "source": [
    "'''\n",
    "## labelled data (which data is in which cluster)\n",
    "print(kmeans.labels_)\n",
    "'''"
   ]
  },
  {
   "cell_type": "code",
   "execution_count": 54,
   "metadata": {},
   "outputs": [
    {
     "data": {
      "text/plain": [
       "<matplotlib.collections.PathCollection at 0x7f129d10f890>"
      ]
     },
     "execution_count": 54,
     "metadata": {},
     "output_type": "execute_result"
    },
    {
     "data": {
      "image/png": "[encoded data removed]",
      "text/plain": [
       "<Figure size 432x288 with 1 Axes>"
      ]
     },
     "metadata": {
      "needs_background": "light"
     },
     "output_type": "display_data"
    }
   ],
   "source": [
    "'''\n",
    "## plot the devided map using colors!\n",
    "plt.scatter(X[:,1],X[:,0], c=kmeans.labels_,cmap='rainbow',s=50)\n",
    "'''"
   ]
  },
  {
   "cell_type": "code",
   "execution_count": 87,
   "metadata": {},
   "outputs": [
    {
     "data": {
      "image/png": "[encoded data removed]",
      "text/plain": [
       "<Figure size 1152x576 with 1 Axes>"
      ]
     },
     "metadata": {
      "needs_background": "light"
     },
     "output_type": "display_data"
    }
   ],
   "source": [
    "distortions = []\n",
    "K = range(1,15)\n",
    "for k in K:\n",
    "    kmeanModel = KMeans(n_clusters=k)\n",
    "    kmeanModel.fit(conc_val)\n",
    "    distortions.append(kmeanModel.inertia_)\n",
    "\n",
    "plt.figure(figsize=(16,8))\n",
    "plt.plot(K, distortions, 'bx-')\n",
    "plt.xlabel('k')\n",
    "plt.ylabel('Distortion')\n",
    "plt.title('The Elbow Method showing the optimal k')\n",
    "plt.show()"
   ]
  },
  {
   "cell_type": "code",
   "execution_count": 92,
   "metadata": {},
   "outputs": [
    {
     "data": {
      "text/plain": [
       "KMeans(algorithm='auto', copy_x=True, init='k-means++', max_iter=300,\n",
       "       n_clusters=8, n_init=10, n_jobs=None, precompute_distances='auto',\n",
       "       random_state=None, tol=0.0001, verbose=0)"
      ]
     },
     "execution_count": 92,
     "metadata": {},
     "output_type": "execute_result"
    }
   ],
   "source": [
    "kmeanModel = KMeans(n_clusters=8)\n",
    "kmeanModel.fit(conc_val)"
   ]
  },
  {
   "cell_type": "code",
   "execution_count": 93,
   "metadata": {},
   "outputs": [
    {
     "name": "stdout",
     "output_type": "stream",
     "text": [
      "[[ 6.93889390e-18  3.46944695e-18 -2.77555756e-16 ...  0.00000000e+00\n",
      "  -2.22044605e-16  0.00000000e+00]\n",
      " [ 1.04083409e-17  5.20417043e-18  6.89655172e-01 ...  0.00000000e+00\n",
      "   8.27586207e-01  0.00000000e+00]\n",
      " [ 0.00000000e+00  0.00000000e+00  8.00000000e-01 ...  0.00000000e+00\n",
      "   8.00000000e-01  0.00000000e+00]\n",
      " ...\n",
      " [-3.46944695e-18 -1.73472348e-18  1.00000000e+00 ...  0.00000000e+00\n",
      "   8.33333333e-01  0.00000000e+00]\n",
      " [ 5.00000000e-01  5.00000000e-01  5.00000000e-01 ...  0.00000000e+00\n",
      "   1.00000000e+00  0.00000000e+00]\n",
      " [-3.46944695e-18 -1.73472348e-18  8.00000000e-01 ...  0.00000000e+00\n",
      "   1.00000000e+00  0.00000000e+00]]\n"
     ]
    }
   ],
   "source": [
    "print(kmeanModel.cluster_centers_)"
   ]
  },
  {
   "cell_type": "code",
   "execution_count": 94,
   "metadata": {},
   "outputs": [
    {
     "name": "stdout",
     "output_type": "stream",
     "text": [
      "[7 1 3 1 1 1 2 2 1 3 1 0 5 1 1 0 0 1 3 3 0 2 0 1 2 1 2 1 1 7 7 1 5 1 1 3 3\n",
      " 3 7 0 0 1 6 7 4 1 3 1 1 4 0 7 0 0 0 0 1 0 3 4 0 0 3 7 0 0 7 1 7 0 5 5 5 1\n",
      " 0 1 0 0 3 6 1 1 0 4 7 0 1 0 1 5 1 3 4]\n"
     ]
    }
   ],
   "source": [
    "print(kmeanModel.labels_)"
   ]
  },
  {
   "cell_type": "code",
   "execution_count": 9,
   "metadata": {},
   "outputs": [
    {
     "data": {
      "text/plain": [
       "KModes(cat_dissim=<function matching_dissim at 0x7fce97a65560>, init='Cao',\n",
       "       max_iter=100, n_clusters=4, n_init=1, n_jobs=1, random_state=None,\n",
       "       verbose=0)"
      ]
     },
     "execution_count": 9,
     "metadata": {},
     "output_type": "execute_result"
    }
   ],
   "source": [
    "km = KModes(n_clusters=4)\n",
    "km.fit(conc_val)"
   ]
  },
  {
   "cell_type": "code",
   "execution_count": 10,
   "metadata": {},
   "outputs": [
    {
     "name": "stdout",
     "output_type": "stream",
     "text": [
      "[[0 0 1 ... 0 1 0]\n",
      " [0 0 0 ... 0 0 0]\n",
      " [0 0 1 ... 0 1 0]\n",
      " [0 0 0 ... 0 0 0]]\n"
     ]
    },
    {
     "ename": "AttributeError",
     "evalue": "'KModes' object has no attribute 'inertia_'",
     "output_type": "error",
     "traceback": [
      "\u001b[0;31m---------------------------------------------------------------------------\u001b[0m",
      "\u001b[0;31mAttributeError\u001b[0m                            Traceback (most recent call last)",
      "\u001b[0;32m<ipython-input-10-85c1098b966a>\u001b[0m in \u001b[0;36m<module>\u001b[0;34m\u001b[0m\n\u001b[1;32m      1\u001b[0m \u001b[0mprint\u001b[0m\u001b[0;34m(\u001b[0m\u001b[0mkm\u001b[0m\u001b[0;34m.\u001b[0m\u001b[0mcluster_centroids_\u001b[0m\u001b[0;34m)\u001b[0m\u001b[0;34m\u001b[0m\u001b[0;34m\u001b[0m\u001b[0m\n\u001b[0;32m----> 2\u001b[0;31m \u001b[0mprint\u001b[0m\u001b[0;34m(\u001b[0m\u001b[0mkm\u001b[0m\u001b[0;34m.\u001b[0m\u001b[0minertia_\u001b[0m\u001b[0;34m)\u001b[0m\u001b[0;34m\u001b[0m\u001b[0;34m\u001b[0m\u001b[0m\n\u001b[0m",
      "\u001b[0;31mAttributeError\u001b[0m: 'KModes' object has no attribute 'inertia_'"
     ]
    }
   ],
   "source": [
    "print(km.cluster_centroids_)\n",
    "print(km.inertia_)"
   ]
  }
 ],
 "metadata": {
  "kernelspec": {
   "display_name": "Python 3",
   "language": "python",
   "name": "python3"
  },
  "language_info": {
   "codemirror_mode": {
    "name": "ipython",
    "version": 3
   },
   "file_extension": ".py",
   "mimetype": "text/x-python",
   "name": "python",
   "nbconvert_exporter": "python",
   "pygments_lexer": "ipython3",
   "version": "3.7.6"
  }
 },
 "nbformat": 4,
 "nbformat_minor": 4
}
