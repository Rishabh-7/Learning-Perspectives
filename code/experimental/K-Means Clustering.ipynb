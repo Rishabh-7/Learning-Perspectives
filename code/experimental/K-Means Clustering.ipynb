{
 "cells": [
  {
   "cell_type": "code",
   "execution_count": 1,
   "metadata": {},
   "outputs": [],
   "source": [
    "import matplotlib.pyplot as plt\n",
    "%matplotlib inline\n",
    "import numpy as np\n",
    "from sklearn.cluster import KMeans"
   ]
  },
  {
   "cell_type": "code",
   "execution_count": 2,
   "metadata": {
    "scrolled": true
   },
   "outputs": [
    {
     "name": "stdout",
     "output_type": "stream",
     "text": [
      "[[5.50000000e+01 1.00000000e+00]\n",
      " [6.60000000e+01 1.19209290e-07]\n",
      " [1.00000000e+00 7.00649232e-48]\n",
      " [2.00000000e+00 5.90296373e+20]\n",
      " [3.00000000e+00 3.02821751e+23]\n",
      " [4.00000000e+00 3.02821751e+23]\n",
      " [5.00000000e+00 3.02821751e+23]\n",
      " [6.00000000e+00 1.59946006e+24]\n",
      " [7.00000000e+00 1.59946006e+24]\n",
      " [8.00000000e+00 1.59946006e+24]\n",
      " [9.00000000e+00 1.59946006e+24]\n",
      " [1.00000000e+01 1.59946006e+24]\n",
      " [1.10000000e+01 1.59946006e+24]\n",
      " [1.20000000e+01 1.59946006e+24]\n",
      " [1.30000000e+01 1.59946006e+24]\n",
      " [1.40000000e+01 1.59946006e+24]\n",
      " [1.50000000e+01 1.59946006e+24]\n",
      " [1.60000000e+01 1.59946006e+24]\n",
      " [1.70000000e+01 1.59946006e+24]\n",
      " [1.80000000e+01 1.59946006e+24]\n",
      " [1.90000000e+01 1.59946006e+24]\n",
      " [2.00000000e+01 1.59946006e+24]\n",
      " [2.10000000e+01 1.59946006e+24]\n",
      " [2.20000000e+01 2.41785164e+24]\n",
      " [2.30000000e+01 2.41785164e+24]\n",
      " [2.40000000e+01 2.41785164e+24]\n",
      " [2.50000000e+01 2.41785164e+24]\n",
      " [2.60000000e+01 2.41785164e+24]\n",
      " [2.70000000e+01 2.41785164e+24]\n",
      " [2.80000000e+01 2.41785164e+24]\n",
      " [2.90000000e+01 2.41785164e+24]\n",
      " [3.00000000e+01 2.41785164e+24]\n",
      " [3.10000000e+01 2.41785164e+24]\n",
      " [3.20000000e+01 2.41785164e+24]\n",
      " [3.30000000e+01 2.41785164e+24]\n",
      " [3.40000000e+01 2.41785164e+24]\n",
      " [3.50000000e+01 2.41785164e+24]\n",
      " [3.60000000e+01 2.41785164e+24]\n",
      " [3.70000000e+01 2.41785164e+24]\n",
      " [3.80000000e+01 2.41785164e+24]\n",
      " [3.90000000e+01 2.41785164e+24]\n",
      " [4.00000000e+01 2.41785164e+24]\n",
      " [4.10000000e+01 2.41785164e+24]\n",
      " [4.20000000e+01 2.41785164e+24]\n",
      " [4.30000000e+01 2.41785164e+24]\n",
      " [4.40000000e+01 2.41785164e+24]\n",
      " [4.50000000e+01 2.41785164e+24]\n",
      " [4.60000000e+01 2.41785164e+24]\n",
      " [4.70000000e+01 2.41785164e+24]\n",
      " [4.80000000e+01 2.41785164e+24]\n",
      " [4.90000000e+01 2.41785164e+24]\n",
      " [5.00000000e+01 2.41785164e+24]\n",
      " [5.10000000e+01 2.41785164e+24]\n",
      " [5.20000000e+01 2.41785164e+24]\n",
      " [5.30000000e+01 2.41785164e+24]\n",
      " [5.40000000e+01 2.41785164e+24]\n",
      " [5.50000000e+01 2.41785164e+24]\n",
      " [5.60000000e+01 2.41785164e+24]\n",
      " [5.70000000e+01 2.41785164e+24]\n",
      " [5.80000000e+01 2.41785164e+24]\n",
      " [5.90000000e+01 2.41785164e+24]\n",
      " [6.00000000e+01 2.41785164e+24]\n",
      " [6.10000000e+01 2.41785164e+24]\n",
      " [6.20000000e+01 2.41785164e+24]\n",
      " [6.30000000e+01 2.41785164e+24]\n",
      " [6.40000000e+01 2.41785164e+24]\n",
      " [6.50000000e+01 2.41785164e+24]\n",
      " [6.60000000e+01 2.41785164e+24]]\n"
     ]
    }
   ],
   "source": [
    "#we will plot number of keywords found on x axis\n",
    "#we will plot number of matches from the global values on y axis\n",
    "openfile = open('/home/manan/Desktop/Research/Learning-Perspectives/results/scores.txt')\n",
    "readfile = openfile.readlines()\n",
    "\n",
    "## initialize with values from the teachers notes\n",
    "X = np.array([[55,1]])\n",
    "\n",
    "for i in readfile:\n",
    "    a,b = i.split(' ')\n",
    "    X = np.append(X,[[int(a),float(b)]],axis=0)\n",
    "print(X)"
   ]
  },
  {
   "cell_type": "code",
   "execution_count": 3,
   "metadata": {},
   "outputs": [
    {
     "data": {
      "text/plain": [
       "Text(0, 0.5, 'Matches Found')"
      ]
     },
     "execution_count": 3,
     "metadata": {},
     "output_type": "execute_result"
    },
    {
     "data": {
      "image/png": "[encoded data removed]",
      "text/plain": [
       "<Figure size 432x288 with 1 Axes>"
      ]
     },
     "metadata": {
      "needs_background": "light"
     },
     "output_type": "display_data"
    }
   ],
   "source": [
    "plt.scatter(X[:,0],X[:,1], label='Points')\n",
    "plt.xlabel(\"Keywords Found\")\n",
    "plt.ylabel(\"Matches Found\")\n"
   ]
  },
  {
   "cell_type": "code",
   "execution_count": 4,
   "metadata": {},
   "outputs": [
    {
     "data": {
      "text/plain": [
       "KMeans(algorithm='auto', copy_x=True, init='k-means++', max_iter=300,\n",
       "       n_clusters=4, n_init=10, n_jobs=None, precompute_distances='auto',\n",
       "       random_state=None, tol=0.0001, verbose=0)"
      ]
     },
     "execution_count": 4,
     "metadata": {},
     "output_type": "execute_result"
    }
   ],
   "source": [
    "## apply K means\n",
    "kmeans = KMeans(n_clusters=4)\n",
    "kmeans.fit(X)"
   ]
  },
  {
   "cell_type": "code",
   "execution_count": 5,
   "metadata": {},
   "outputs": [
    {
     "name": "stdout",
     "output_type": "stream",
     "text": [
      "[[4.40000000e+01 2.41785164e+24]\n",
      " [3.10000000e+01 1.47574093e+20]\n",
      " [1.35000000e+01 1.59946006e+24]\n",
      " [4.00000000e+00 3.02821751e+23]]\n"
     ]
    }
   ],
   "source": [
    "## cluster centres\n",
    "print(kmeans.cluster_centers_)\n"
   ]
  },
  {
   "cell_type": "code",
   "execution_count": 6,
   "metadata": {},
   "outputs": [
    {
     "name": "stdout",
     "output_type": "stream",
     "text": [
      "[1 1 1 1 3 3 3 2 2 2 2 2 2 2 2 2 2 2 2 2 2 2 2 0 0 0 0 0 0 0 0 0 0 0 0 0 0\n",
      " 0 0 0 0 0 0 0 0 0 0 0 0 0 0 0 0 0 0 0 0 0 0 0 0 0 0 0 0 0 0 0]\n"
     ]
    }
   ],
   "source": [
    "## labelled data (which data is in which cluster)\n",
    "print(kmeans.labels_)"
   ]
  },
  {
   "cell_type": "code",
   "execution_count": 7,
   "metadata": {},
   "outputs": [
    {
     "data": {
      "text/plain": [
       "<matplotlib.collections.PathCollection at 0x7fd0b9ac4ad0>"
      ]
     },
     "execution_count": 7,
     "metadata": {},
     "output_type": "execute_result"
    },
    {
     "data": {
      "image/png": "[encoded data removed]",
      "text/plain": [
       "<Figure size 432x288 with 1 Axes>"
      ]
     },
     "metadata": {
      "needs_background": "light"
     },
     "output_type": "display_data"
    }
   ],
   "source": [
    "## plot the devided map using colors!\n",
    "plt.scatter(X[:,0],X[:,1], c=kmeans.labels_,cmap='rainbow')"
   ]
  },
  {
   "cell_type": "code",
   "execution_count": null,
   "metadata": {},
   "outputs": [],
   "source": []
  }
 ],
 "metadata": {
  "kernelspec": {
   "display_name": "Python 3",
   "language": "python",
   "name": "python3"
  },
  "language_info": {
   "codemirror_mode": {
    "name": "ipython",
    "version": 3
   },
   "file_extension": ".py",
   "mimetype": "text/x-python",
   "name": "python",
   "nbconvert_exporter": "python",
   "pygments_lexer": "ipython3",
   "version": "3.7.6"
  }
 },
 "nbformat": 4,
 "nbformat_minor": 4
}
