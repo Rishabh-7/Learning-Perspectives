{
 "cells": [
  {
   "cell_type": "code",
   "execution_count": 24,
   "metadata": {},
   "outputs": [],
   "source": [
    "from mpl_toolkits import mplot3d\n",
    "import matplotlib.pyplot as plt\n",
    "%matplotlib inline\n",
    "import numpy as np\n",
    "from sklearn.cluster import KMeans\n",
    "import pandas as pd"
   ]
  },
  {
   "cell_type": "code",
   "execution_count": 4,
   "metadata": {
    "scrolled": false
   },
   "outputs": [
    {
     "name": "stdout",
     "output_type": "stream",
     "text": [
      "[[1.72000000e+69 0.00000000e+00]\n",
      " [1.72627909e+69 0.00000000e+00]\n",
      " [8.42499137e+65 0.00000000e+00]\n",
      " [1.72627909e+69 0.00000000e+00]\n",
      " [1.85146612e+69 0.00000000e+00]\n",
      " [1.85146612e+69 0.00000000e+00]\n",
      " [1.72964908e+69 0.00000000e+00]\n",
      " [8.42498333e+65 0.00000000e+00]\n",
      " [8.42498333e+65 0.00000000e+00]\n",
      " [1.72627909e+69 0.00000000e+00]\n",
      " [8.42601177e+65 0.00000000e+00]\n",
      " [1.72627909e+69 0.00000000e+00]\n",
      " [8.42498333e+65 0.00000000e+00]\n",
      " [8.43321087e+65 0.00000000e+00]\n",
      " [2.15763823e+69 0.00000000e+00]\n",
      " [1.73975906e+69 0.00000000e+00]\n",
      " [8.42498333e+65 0.00000000e+00]\n",
      " [8.42498333e+65 0.00000000e+00]\n",
      " [8.42499137e+65 0.00000000e+00]\n",
      " [8.95155283e+65 0.00000000e+00]\n",
      " [8.42499138e+65 0.00000000e+00]\n",
      " [8.42498333e+65 0.00000000e+00]\n",
      " [8.42498333e+65 0.00000000e+00]\n",
      " [8.42498333e+65 0.00000000e+00]\n",
      " [4.32201646e+68 0.00000000e+00]\n",
      " [1.72627909e+69 0.00000000e+00]\n",
      " [1.72627909e+69 0.00000000e+00]\n",
      " [4.32201645e+68 0.00000000e+00]\n",
      " [8.42499149e+65 0.00000000e+00]\n",
      " [2.15763823e+69 0.00000000e+00]\n",
      " [8.42499137e+65 0.00000000e+00]\n",
      " [8.42499137e+65 0.00000000e+00]\n",
      " [1.72628073e+69 0.00000000e+00]\n",
      " [8.42499137e+65 0.00000000e+00]\n",
      " [3.06479747e+69 0.00000000e+00]\n",
      " [4.32622895e+68 0.00000000e+00]\n",
      " [1.72627909e+69 0.00000000e+00]\n",
      " [1.43257635e+67 0.00000000e+00]\n",
      " [4.32201645e+68 0.00000000e+00]\n",
      " [1.72627909e+69 0.00000000e+00]\n",
      " [8.42498333e+65 0.00000000e+00]\n",
      " [8.42498333e+65 0.00000000e+00]\n",
      " [1.72627909e+69 0.00000000e+00]\n",
      " [4.32201646e+68 0.00000000e+00]\n",
      " [1.47503041e+67 0.00000000e+00]\n",
      " [8.42499137e+65 0.00000000e+00]\n",
      " [1.72627919e+69 0.00000000e+00]\n",
      " [3.17284790e+69 0.00000000e+00]\n",
      " [1.43224717e+67 0.00000000e+00]\n",
      " [8.42498333e+65 0.00000000e+00]\n",
      " [1.72627909e+69 0.00000000e+00]\n",
      " [8.42498333e+65 0.00000000e+00]\n",
      " [8.42498333e+65 0.00000000e+00]\n",
      " [8.42498333e+65 0.00000000e+00]\n",
      " [8.42498333e+65 0.00000000e+00]\n",
      " [2.15763823e+69 0.00000000e+00]\n",
      " [8.42498333e+65 0.00000000e+00]\n",
      " [4.32650919e+68 0.00000000e+00]\n",
      " [8.42498333e+65 0.00000000e+00]\n",
      " [8.42498333e+65 0.00000000e+00]\n",
      " [2.15763823e+69 0.00000000e+00]\n",
      " [8.42499137e+65 0.00000000e+00]\n",
      " [8.42498333e+65 0.00000000e+00]\n",
      " [8.42498333e+65 0.00000000e+00]\n",
      " [1.72627909e+69 0.00000000e+00]\n",
      " [1.73977225e+69 0.00000000e+00]\n",
      " [1.72964908e+69 0.00000000e+00]\n",
      " [8.42498333e+65 0.00000000e+00]\n",
      " [1.72627909e+69 0.00000000e+00]\n",
      " [1.72627909e+69 0.00000000e+00]\n",
      " [1.72627909e+69 0.00000000e+00]\n",
      " [8.95155283e+65 0.00000000e+00]\n",
      " [8.42498333e+65 0.00000000e+00]\n",
      " [1.72627909e+69 0.00000000e+00]\n",
      " [8.42498333e+65 0.00000000e+00]\n",
      " [8.42498333e+65 0.00000000e+00]\n",
      " [8.42499137e+65 0.00000000e+00]\n",
      " [2.15774357e+69 0.00000000e+00]\n",
      " [4.21413798e+66 0.00000000e+00]\n",
      " [1.72627909e+69 0.00000000e+00]\n",
      " [8.42498333e+65 0.00000000e+00]\n",
      " [8.42499137e+65 0.00000000e+00]\n",
      " [8.42498333e+65 0.00000000e+00]\n",
      " [1.72965072e+69 0.00000000e+00]\n",
      " [8.42498333e+65 0.00000000e+00]\n",
      " [1.72633503e+69 0.00000000e+00]\n",
      " [1.73975906e+69 0.00000000e+00]\n",
      " [1.72627909e+69 0.00000000e+00]\n",
      " [2.15785057e+69 0.00000000e+00]]\n"
     ]
    }
   ],
   "source": [
    "#we will plot number of keywords found on x axis\n",
    "#we will plot number of matches from the global values on y axis\n",
    "openfile = open('/home/manan/Desktop/Research/Learning-Perspectives/results/scores.txt')\n",
    "readfile = openfile.readlines()\n",
    "\n",
    "## initialize with values from the teachers notes\n",
    "\n",
    "X = np.array([[1.72e+69,0]])\n",
    "\n",
    "for i in readfile:\n",
    "    a,b,c = i.split(' ')\n",
    "    if int(a)>int(c):\n",
    "     print(\"error\")\n",
    "    if(int(c)>0):\n",
    "     X = np.append(X,[[float(b),0]],axis=0)\n",
    "\n",
    "print(X)"
   ]
  },
  {
   "cell_type": "code",
   "execution_count": 31,
   "metadata": {},
   "outputs": [
    {
     "name": "stdout",
     "output_type": "stream",
     "text": [
      "<class 'pandas.core.frame.DataFrame'>\n",
      "RangeIndex: 89 entries, 0 to 88\n",
      "Data columns (total 2 columns):\n",
      " #   Column  Non-Null Count  Dtype  \n",
      "---  ------  --------------  -----  \n",
      " 0   0       89 non-null     float64\n",
      " 1   1       89 non-null     float64\n",
      "dtypes: float64(2)\n",
      "memory usage: 1.5 KB\n"
     ]
    },
    {
     "data": {
      "text/html": [
       "<div>\n",
       "<style scoped>\n",
       "    .dataframe tbody tr th:only-of-type {\n",
       "        vertical-align: middle;\n",
       "    }\n",
       "\n",
       "    .dataframe tbody tr th {\n",
       "        vertical-align: top;\n",
       "    }\n",
       "\n",
       "    .dataframe thead th {\n",
       "        text-align: right;\n",
       "    }\n",
       "</style>\n",
       "<table border=\"1\" class=\"dataframe\">\n",
       "  <thead>\n",
       "    <tr style=\"text-align: right;\">\n",
       "      <th></th>\n",
       "      <th>score</th>\n",
       "      <th>dummy</th>\n",
       "    </tr>\n",
       "  </thead>\n",
       "  <tbody>\n",
       "    <tr>\n",
       "      <th>0</th>\n",
       "      <td>1.720000e+69</td>\n",
       "      <td>0.0</td>\n",
       "    </tr>\n",
       "    <tr>\n",
       "      <th>1</th>\n",
       "      <td>1.726279e+69</td>\n",
       "      <td>0.0</td>\n",
       "    </tr>\n",
       "    <tr>\n",
       "      <th>2</th>\n",
       "      <td>8.424991e+65</td>\n",
       "      <td>0.0</td>\n",
       "    </tr>\n",
       "    <tr>\n",
       "      <th>3</th>\n",
       "      <td>1.726279e+69</td>\n",
       "      <td>0.0</td>\n",
       "    </tr>\n",
       "    <tr>\n",
       "      <th>4</th>\n",
       "      <td>1.851466e+69</td>\n",
       "      <td>0.0</td>\n",
       "    </tr>\n",
       "  </tbody>\n",
       "</table>\n",
       "</div>"
      ],
      "text/plain": [
       "          score  dummy\n",
       "0  1.720000e+69    0.0\n",
       "1  1.726279e+69    0.0\n",
       "2  8.424991e+65    0.0\n",
       "3  1.726279e+69    0.0\n",
       "4  1.851466e+69    0.0"
      ]
     },
     "execution_count": 31,
     "metadata": {},
     "output_type": "execute_result"
    }
   ],
   "source": [
    "df = pd.DataFrame(data=X)\n",
    "df.info()\n",
    "df.columns=[\"score\",\"dummy\"]\n",
    "df.head(5)\n"
   ]
  },
  {
   "cell_type": "code",
   "execution_count": 43,
   "metadata": {},
   "outputs": [
    {
     "data": {
      "text/plain": [
       "<matplotlib.axes._subplots.AxesSubplot at 0x7f129d214b10>"
      ]
     },
     "execution_count": 43,
     "metadata": {},
     "output_type": "execute_result"
    },
    {
     "data": {
      "image/png": "[encoded data removed]",
      "text/plain": [
       "<Figure size 864x576 with 1 Axes>"
      ]
     },
     "metadata": {
      "needs_background": "light"
     },
     "output_type": "display_data"
    }
   ],
   "source": [
    "df.plot.scatter(y='score',x='dummy', figsize=(12,8),style=\"s\",s=300)"
   ]
  },
  {
   "cell_type": "code",
   "execution_count": 51,
   "metadata": {},
   "outputs": [
    {
     "data": {
      "text/plain": [
       "KMeans(algorithm='auto', copy_x=True, init='k-means++', max_iter=300,\n",
       "       n_clusters=3, n_init=10, n_jobs=None, precompute_distances='auto',\n",
       "       random_state=None, tol=0.0001, verbose=0)"
      ]
     },
     "execution_count": 51,
     "metadata": {},
     "output_type": "execute_result"
    }
   ],
   "source": [
    "## apply K means\n",
    "kmeans = KMeans(n_clusters=3)\n",
    "kmeans.fit(X)"
   ]
  },
  {
   "cell_type": "code",
   "execution_count": 52,
   "metadata": {},
   "outputs": [
    {
     "name": "stdout",
     "output_type": "stream",
     "text": [
      "[[5.14843125e+67 0.00000000e+00]\n",
      " [1.80865594e+69 0.00000000e+00]\n",
      " [3.11882269e+69 0.00000000e+00]]\n"
     ]
    }
   ],
   "source": [
    "## cluster centres\n",
    "print(kmeans.cluster_centers_)\n"
   ]
  },
  {
   "cell_type": "code",
   "execution_count": 53,
   "metadata": {},
   "outputs": [
    {
     "name": "stdout",
     "output_type": "stream",
     "text": [
      "[1 1 0 1 1 1 1 0 0 1 0 1 0 0 1 1 0 0 0 0 0 0 0 0 0 1 1 0 0 1 0 0 1 0 2 0 1\n",
      " 0 0 1 0 0 1 0 0 0 1 2 0 0 1 0 0 0 0 1 0 0 0 0 1 0 0 0 1 1 1 0 1 1 1 0 0 1\n",
      " 0 0 0 1 0 1 0 0 0 1 0 1 1 1 1]\n"
     ]
    }
   ],
   "source": [
    "## labelled data (which data is in which cluster)\n",
    "print(kmeans.labels_)"
   ]
  },
  {
   "cell_type": "code",
   "execution_count": 54,
   "metadata": {},
   "outputs": [
    {
     "data": {
      "text/plain": [
       "<matplotlib.collections.PathCollection at 0x7f129d10f890>"
      ]
     },
     "execution_count": 54,
     "metadata": {},
     "output_type": "execute_result"
    },
    {
     "data": {
      "image/png": "[encoded data removed]",
      "text/plain": [
       "<Figure size 432x288 with 1 Axes>"
      ]
     },
     "metadata": {
      "needs_background": "light"
     },
     "output_type": "display_data"
    }
   ],
   "source": [
    "## plot the devided map using colors!\n",
    "plt.scatter(X[:,1],X[:,0], c=kmeans.labels_,cmap='rainbow',s=50)\n"
   ]
  },
  {
   "cell_type": "code",
   "execution_count": null,
   "metadata": {},
   "outputs": [],
   "source": []
  },
  {
   "cell_type": "code",
   "execution_count": null,
   "metadata": {},
   "outputs": [],
   "source": []
  },
  {
   "cell_type": "code",
   "execution_count": null,
   "metadata": {},
   "outputs": [],
   "source": []
  },
  {
   "cell_type": "code",
   "execution_count": null,
   "metadata": {},
   "outputs": [],
   "source": []
  }
 ],
 "metadata": {
  "kernelspec": {
   "display_name": "Python 3",
   "language": "python",
   "name": "python3"
  },
  "language_info": {
   "codemirror_mode": {
    "name": "ipython",
    "version": 3
   },
   "file_extension": ".py",
   "mimetype": "text/x-python",
   "name": "python",
   "nbconvert_exporter": "python",
   "pygments_lexer": "ipython3",
   "version": "3.7.6"
  }
 },
 "nbformat": 4,
 "nbformat_minor": 4
}
