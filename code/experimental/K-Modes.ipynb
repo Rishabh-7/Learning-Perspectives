{
 "cells": [
  {
   "cell_type": "markdown",
   "metadata": {},
   "source": [
    "### Importing Libraries"
   ]
  },
  {
   "cell_type": "code",
   "execution_count": 23,
   "metadata": {},
   "outputs": [],
   "source": [
    "import matplotlib.pyplot as plt\n",
    "%matplotlib inline\n",
    "import numpy as np\n",
    "import pandas as pd\n",
    "from kmodes.kmodes import KModes\n"
   ]
  },
  {
   "cell_type": "markdown",
   "metadata": {},
   "source": [
    "### Data Reading "
   ]
  },
  {
   "cell_type": "code",
   "execution_count": 45,
   "metadata": {},
   "outputs": [],
   "source": [
    "df = pd.read_csv('/home/manan/Desktop/Research/Learning-Perspectives/code/bstr.txt', sep=\" \")\n",
    "\n",
    "# changing the value of heads using the values in teacher's note\n",
    "teachers_keywords = \"/home/manan/Desktop/Research/Learning-Perspectives/data/data_notes/79n.txt\"\n",
    "heads = set()\n",
    "openfile = open(teachers_keywords,'r')\n",
    "readtext = openfile.read()\n",
    "# reading into head\n",
    "a = \"\"\n",
    "for i in readtext:\n",
    "    if i!=',':\n",
    "        a = a+i\n",
    "    else:\n",
    "        heads.add(a)\n",
    "        a = \"\"\n",
    "heads.add(\"null\")\n",
    "# changin colomuns into head\n",
    "df.columns = heads\n",
    "# cleaning\n",
    "df = df.drop(columns=\"sprint backlog advantages \",axis=0)"
   ]
  },
  {
   "cell_type": "code",
   "execution_count": 46,
   "metadata": {},
   "outputs": [
    {
     "name": "stdout",
     "output_type": "stream",
     "text": [
      "Index(['sprint planning meeting ', 'specific roles ', 'team doesnt ',\n",
      "       'developers team addresses ', 'potential users ', 'needs oo ',\n",
      "       'previous sprint ', 'work oo ', 'scope creep ', 'team members ',\n",
      "       ...\n",
      "       'unnecessary activity ', 'teams workflow ', 'high importance ',\n",
      "       'early delivery oo encourages ',\n",
      "       'frequent releases featuredriven development ', 'good design results ',\n",
      "       'development time ', 'lean principles aim ',\n",
      "       'release cycle oo collaboration ', 'constant feedback '],\n",
      "      dtype='object', length=183)\n"
     ]
    }
   ],
   "source": [
    "print(df.columns)"
   ]
  },
  {
   "cell_type": "code",
   "execution_count": 47,
   "metadata": {},
   "outputs": [
    {
     "name": "stdout",
     "output_type": "stream",
     "text": [
      "   sprint planning meeting   specific roles   team doesnt   \\\n",
      "0                         0                0             0   \n",
      "1                         0                0             0   \n",
      "2                         0                0             0   \n",
      "3                         0                0             0   \n",
      "4                         0                0             0   \n",
      "\n",
      "   developers team addresses   potential users   needs oo   previous sprint   \\\n",
      "0                           0                 0          0                 0   \n",
      "1                           0                 0          0                 0   \n",
      "2                           0                 0          0                 0   \n",
      "3                           0                 0          0                 0   \n",
      "4                           0                 0          0                 0   \n",
      "\n",
      "   work oo   scope creep   team members   ...  unnecessary activity   \\\n",
      "0         0             0              0  ...                      0   \n",
      "1         0             0              0  ...                      0   \n",
      "2         0             0              0  ...                      0   \n",
      "3         0             0              0  ...                      0   \n",
      "4         0             0              0  ...                      0   \n",
      "\n",
      "   teams workflow   high importance   early delivery oo encourages   \\\n",
      "0                0                 0                              1   \n",
      "1                0                 0                              0   \n",
      "2                0                 0                              1   \n",
      "3                0                 0                              1   \n",
      "4                0                 0                              0   \n",
      "\n",
      "   frequent releases featuredriven development   good design results   \\\n",
      "0                                             0                     0   \n",
      "1                                             0                     0   \n",
      "2                                             0                     0   \n",
      "3                                             0                     0   \n",
      "4                                             0                     0   \n",
      "\n",
      "   development time   lean principles aim   release cycle oo collaboration   \\\n",
      "0                  0                     1                                0   \n",
      "1                  0                     0                                0   \n",
      "2                  0                     0                                0   \n",
      "3                  0                     0                                0   \n",
      "4                  0                     0                                0   \n",
      "\n",
      "   constant feedback   \n",
      "0                   0  \n",
      "1                   0  \n",
      "2                   0  \n",
      "3                   0  \n",
      "4                   0  \n",
      "\n",
      "[5 rows x 183 columns]\n"
     ]
    }
   ],
   "source": [
    "print(df.head())"
   ]
  },
  {
   "cell_type": "markdown",
   "metadata": {},
   "source": [
    "### Data Inspection"
   ]
  },
  {
   "cell_type": "code",
   "execution_count": 48,
   "metadata": {},
   "outputs": [
    {
     "data": {
      "text/plain": [
       "(92, 183)"
      ]
     },
     "execution_count": 48,
     "metadata": {},
     "output_type": "execute_result"
    }
   ],
   "source": [
    "df.shape"
   ]
  },
  {
   "cell_type": "code",
   "execution_count": 49,
   "metadata": {},
   "outputs": [
    {
     "data": {
      "text/plain": [
       "<bound method NDFrame.describe of     sprint planning meeting   specific roles   team doesnt   \\\n",
       "0                          0                0             0   \n",
       "1                          0                0             0   \n",
       "2                          0                0             0   \n",
       "3                          0                0             0   \n",
       "4                          0                0             0   \n",
       "..                       ...              ...           ...   \n",
       "87                         0                0             0   \n",
       "88                         0                0             0   \n",
       "89                         0                0             0   \n",
       "90                         0                0             0   \n",
       "91                         0                0             0   \n",
       "\n",
       "    developers team addresses   potential users   needs oo   previous sprint   \\\n",
       "0                            0                 0          0                 0   \n",
       "1                            0                 0          0                 0   \n",
       "2                            0                 0          0                 0   \n",
       "3                            0                 0          0                 0   \n",
       "4                            0                 0          0                 0   \n",
       "..                         ...               ...        ...               ...   \n",
       "87                           0                 0          1                 0   \n",
       "88                           0                 0          0                 0   \n",
       "89                           0                 0          0                 0   \n",
       "90                           0                 0          0                 0   \n",
       "91                           0                 0          0                 0   \n",
       "\n",
       "    work oo   scope creep   team members   ...  unnecessary activity   \\\n",
       "0          0             0              0  ...                      0   \n",
       "1          0             0              0  ...                      0   \n",
       "2          0             0              0  ...                      0   \n",
       "3          0             0              0  ...                      0   \n",
       "4          0             0              0  ...                      0   \n",
       "..       ...           ...            ...  ...                    ...   \n",
       "87         0             0              0  ...                      0   \n",
       "88         0             0              0  ...                      1   \n",
       "89         0             0              0  ...                      0   \n",
       "90         0             0              0  ...                      0   \n",
       "91         0             0              0  ...                      0   \n",
       "\n",
       "    teams workflow   high importance   early delivery oo encourages   \\\n",
       "0                 0                 0                              1   \n",
       "1                 0                 0                              0   \n",
       "2                 0                 0                              1   \n",
       "3                 0                 0                              1   \n",
       "4                 0                 0                              0   \n",
       "..              ...               ...                            ...   \n",
       "87                0                 0                              1   \n",
       "88                0                 0                              1   \n",
       "89                0                 0                              0   \n",
       "90                0                 0                              0   \n",
       "91                0                 0                              0   \n",
       "\n",
       "    frequent releases featuredriven development   good design results   \\\n",
       "0                                              0                     0   \n",
       "1                                              0                     0   \n",
       "2                                              0                     0   \n",
       "3                                              0                     0   \n",
       "4                                              0                     0   \n",
       "..                                           ...                   ...   \n",
       "87                                             0                     0   \n",
       "88                                             0                     0   \n",
       "89                                             0                     0   \n",
       "90                                             0                     0   \n",
       "91                                             0                     0   \n",
       "\n",
       "    development time   lean principles aim   release cycle oo collaboration   \\\n",
       "0                   0                     1                                0   \n",
       "1                   0                     0                                0   \n",
       "2                   0                     0                                0   \n",
       "3                   0                     0                                0   \n",
       "4                   0                     0                                0   \n",
       "..                ...                   ...                              ...   \n",
       "87                  0                     1                                0   \n",
       "88                  0                     0                                0   \n",
       "89                  0                     0                                0   \n",
       "90                  0                     0                                0   \n",
       "91                  0                     0                                0   \n",
       "\n",
       "    constant feedback   \n",
       "0                    0  \n",
       "1                    0  \n",
       "2                    0  \n",
       "3                    0  \n",
       "4                    0  \n",
       "..                 ...  \n",
       "87                   0  \n",
       "88                   0  \n",
       "89                   0  \n",
       "90                   0  \n",
       "91                   0  \n",
       "\n",
       "[92 rows x 183 columns]>"
      ]
     },
     "execution_count": 49,
     "metadata": {},
     "output_type": "execute_result"
    }
   ],
   "source": [
    "df.describe"
   ]
  },
  {
   "cell_type": "markdown",
   "metadata": {},
   "source": [
    "### Using K-Mode with \"Cao\" initialization"
   ]
  },
  {
   "cell_type": "code",
   "execution_count": 50,
   "metadata": {},
   "outputs": [
    {
     "name": "stdout",
     "output_type": "stream",
     "text": [
      "Init: initializing centroids\n",
      "Init: initializing clusters\n",
      "Starting iterations...\n",
      "Run 1, iteration: 1/100, moves: 0, cost: 798.0\n"
     ]
    }
   ],
   "source": [
    "km_cao = KModes(n_clusters=2, init = \"Cao\", n_init = 1, verbose=1)\n",
    "fitClusters_cao = km_cao.fit_predict(df)"
   ]
  }
 ],
 "metadata": {
  "kernelspec": {
   "display_name": "Python 3",
   "language": "python",
   "name": "python3"
  },
  "language_info": {
   "codemirror_mode": {
    "name": "ipython",
    "version": 3
   },
   "file_extension": ".py",
   "mimetype": "text/x-python",
   "name": "python",
   "nbconvert_exporter": "python",
   "pygments_lexer": "ipython3",
   "version": "3.7.6"
  }
 },
 "nbformat": 4,
 "nbformat_minor": 4
}
